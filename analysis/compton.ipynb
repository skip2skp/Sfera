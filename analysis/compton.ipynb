{
 "cells": [
  {
   "cell_type": "markdown",
   "metadata": {},
   "source": [
    "# Simulazione diffusione Compton multipla per fotoni emessi da una sorgente di Cesio"
   ]
  },
  {
   "cell_type": "markdown",
   "metadata": {},
   "source": [
    "Questo programma simula la diffusione Compton di un fascio di fotoni all'interno di un cristallo del detector."
   ]
  },
  {
   "cell_type": "code",
   "execution_count": 1,
   "metadata": {},
   "outputs": [],
   "source": [
    "import numpy as np\n",
    "import matplotlib.pyplot as plt\n",
    "from scipy import integrate\n",
    "from scipy.optimize import curve_fit\n",
    "#%matplotlib"
   ]
  },
  {
   "cell_type": "markdown",
   "metadata": {},
   "source": [
    "Definiamo\n",
    "i parametri del problema: la massa dell'elettrone $m_e=511\\,keV$ e l'energia nominale del fotone emesso dal decadimento del Cesio $E_{Cs} = 661.7\\,keV$"
   ]
  },
  {
   "cell_type": "code",
   "execution_count": 2,
   "metadata": {},
   "outputs": [],
   "source": [
    "m_e=551 #keV\n",
    "E_init=E_Cs=661.7 #keV"
   ]
  },
  {
   "cell_type": "markdown",
   "metadata": {},
   "source": [
    "Simuliamo il passaggio di un grande numero (10000000) di fotoni"
   ]
  },
  {
   "cell_type": "code",
   "execution_count": 12,
   "metadata": {},
   "outputs": [],
   "source": [
    "N_photon=100 #number of incident photons"
   ]
  },
  {
   "cell_type": "markdown",
   "metadata": {},
   "source": [
    "La formula per la sezione d'urto differenziale angolare dell'effetto Compton è nota come formula di Klein-Nishima. Se $E$ ed $E'$ sono rispettivamente l'energia del fotone incidente e diffuso, e $\\theta$ è l'angolo di diffusione, vale\n",
    "\n",
    "$$\n",
    "\\frac{E'}{E} = \\frac{1}{1+\\frac{E}{m_e}(1-\\cos{\\theta})}\n",
    "$$\n",
    " \n",
    "e\n",
    "\n",
    "$$\n",
    "\\frac{d\\sigma}{d\\cos{\\theta}} = \\mathcal{A} \\bigg(\\frac{E'}{E}\\bigg)^{2} \\bigg(\\frac{E}{E'} + \\frac{E'}{E} - \\sin^{2}{\\theta}\\bigg)\n",
    "$$\n",
    "\n",
    "Dove $\\mathcal{A}$ è un irrilevante fattore moltiplicativo che si elide normalizzando questa distribuzione.\n",
    "\n",
    "Imponendo $\\frac{d\\sigma}{d\\cos{\\theta}} d\\cos{\\theta} = \\frac{d\\sigma}{dE'} dE'$ otteniamo la sezione d'urto differenziale in energia, che implementiamo in una funzione nella prossima cella.\n",
    "\n",
    "La cinematica imposta un intervallo possibile di energie del fotone diffuso che dipende dall'energia del fotone incidente $E$: $I_{E} = [\\frac{m_e}{m_e + 2 E} E, E]$. Per semplificare il codice delle prossime celle, implementiamo una funzione che resistuisca un ```arange``` di numpy in questo intervallo.\n",
    "\n",
    "Integrando questa espressione su tutti i valori delle energie finali, si trova la sezione d'urto totale in funzione dell'energia incidente. Normalizzando opportunamente questa funzione, otteniamo una distribuzione di probabilità per l'interazione del fotone con il cristallo attraverso l'effetto Compton."
   ]
  },
  {
   "cell_type": "code",
   "execution_count": 4,
   "metadata": {},
   "outputs": [],
   "source": [
    "#range of definition of d(sigma)/d(E_out) in function of E_in (defaults to E_Cs)\n",
    "def sample(E=E_init, step=0.5):\n",
    "    return np.linspace(0.1+(m_e*E/(m_e+2*E)), E, 10000)\n",
    "\n",
    "#d(sigma)/d(E_out) with e_in (defaults to E_Cs) as a parameter, computed from the Klein-Nishima formula\n",
    "def differentialCrossSection(E_out, E_in=E_init):\n",
    "    x=np.arccos(m_e/E_in - m_e/E_out + 1)\n",
    "    return (E_out/E_in)*(E_in/E_out + E_out/E_in - np.sin(x)*np.sin(x))\n",
    "\n",
    "#integrated cross-section as a function of energy\n",
    "def totalCrossSection(E):\n",
    "    x=E/m_e\n",
    "    return 0.75*(((1+x)/(x**3))*((2*x*(1+x)/(1+2*x)) - np.log(1+2*x)))+(1/(2*x))*np.log(1+2*x) -((1+3*x)/((1+2*x)**2))\n",
    "        \n",
    "E_max=10000\n",
    "x=np.arange(100,E_max, 0.005)\n",
    "normalization=integrate.trapz(totalCrossSection(x), x) #normalization of the total cross section"
   ]
  },
  {
   "cell_type": "markdown",
   "metadata": {},
   "source": [
    "Per simulare la diffusione, generiamo numeri aleatori da una distribuzione uniforme tra 0 e 1, e li confrontiamo con la distribuzione di probabilità di cui sopra per decidere se il fotone interagisce per effetto Compton.\n",
    "\n",
    "Per generare l'energia del fotone uscente, discretizziamo l'asse delle energie del fotone diffuso (o meglio, l'intervallo di definizione di cui sopra), e estraiamo casualmente da una distribuzione di probabilità discreta, calcolata come \n",
    "$$\n",
    "\\frac{d\\,\\sigma}{d\\,E'}(E'_k)\n",
    "$$\n",
    "il valore dell'energia del fotone uscente."
   ]
  },
  {
   "cell_type": "code",
   "execution_count": 10,
   "metadata": {},
   "outputs": [],
   "source": [
    "def scattering(E=E_init):\n",
    "    multiple=0\n",
    "    while np.random.uniform()<((totalCrossSection(E))/(normalization)): #if it interacts...\n",
    "        E=np.random.choice(sample(E),p=differentialCrossSection(sample(E),E)/differentialCrossSection(sample(E),E).sum()) #it comes out with a random energy\n",
    "        multiple+=1 #count the number of interactions\n",
    "    return E, multiple #return the energy at end of process and the number of Compton scatterings"
   ]
  },
  {
   "cell_type": "markdown",
   "metadata": {},
   "source": [
    "Per ciascun fotone, iteriamo il processo di decisione aleatoria dell'interazione, e salviamo le energie finali di ciascun fotone nell'array ```energies``` . Il tempo di esecuzione è piuttosto lungo a causa del numero di operazioni che deve eseguire per ciascun fotone."
   ]
  },
  {
   "cell_type": "code",
   "execution_count": 15,
   "metadata": {},
   "outputs": [],
   "source": [
    "energies=np.array([scattering() for photon in range(0, N_photon)])"
   ]
  },
  {
   "cell_type": "code",
   "execution_count": 7,
   "metadata": {},
   "outputs": [],
   "source": [
    "#def fit_function(x, par0, par1, par2, par3, par4, par5, par6):\n",
    " #   return par0+par1*x+par2*(x**2)+par3*(x**3)+par4*(x**4)+par5*(x**5)+par6*(x**6)"
   ]
  },
  {
   "cell_type": "markdown",
   "metadata": {},
   "source": [
    "Di seguito mostriamo l'istogramma dello spettro delle energie rilasciate nel detector, i.e.\n",
    "\n",
    "$$\n",
    "\\Delta E^{i}=E_{Cs} - \\text{energies}^{i}\n",
    "$$"
   ]
  },
  {
   "cell_type": "code",
   "execution_count": 8,
   "metadata": {},
   "outputs": [],
   "source": [
    "hist, bins=np.histogram(E_init-energies[:,0][np.where(energies[:,0]!=E_init)], 50)\n",
    "bins=np.array([0.5*bins[i]+bins[i+1] for i in range (0,len(bins)-1)])\n",
    "#popt, pcov=curve_fit(fit_function, xdata=bins, ydata=hist)"
   ]
  },
  {
   "cell_type": "code",
   "execution_count": 9,
   "metadata": {},
   "outputs": [
    {
     "data": {
      "image/png": "[encoded data removed]",
      "text/plain": [
       "<Figure size 432x288 with 1 Axes>"
      ]
     },
     "metadata": {
      "needs_background": "light"
     },
     "output_type": "display_data"
    }
   ],
   "source": [
    "x=np.linspace(0,E_init,10000)\n",
    "fig=plt.figure()\n",
    "plt.bar(bins,hist,40, color='g')\n",
    "#plt.plot(x, fit_function(x,*popt), color='b')\n",
    "plt.xlabel(\"Energy lost in Compton scattering [keV]\")\n",
    "plt.savefig(\"/tmp/compton.jpg\")"
   ]
  },
  {
   "cell_type": "markdown",
   "metadata": {},
   "source": [
    "Si vede che la grandissima maggioranza dei fotoni incidenti non interagisce affatto per effetto compton, e la frazione di fotoni che partecipano ad una diffusione multipla è essenzialmente 0 simulando il passaggio di 10000000 fotoni nel cristallo."
   ]
  }
 ],
 "metadata": {
  "kernelspec": {
   "display_name": "Python 3",
   "language": "python",
   "name": "python3"
  },
  "language_info": {
   "codemirror_mode": {
    "name": "ipython",
    "version": 3
   },
   "file_extension": ".py",
   "mimetype": "text/x-python",
   "name": "python",
   "nbconvert_exporter": "python",
   "pygments_lexer": "ipython3",
   "version": "3.7.6"
  }
 },
 "nbformat": 4,
 "nbformat_minor": 4
}
