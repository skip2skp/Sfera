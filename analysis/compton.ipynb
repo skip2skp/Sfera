{
 "cells": [
  {
   "cell_type": "markdown",
   "metadata": {},
   "source": [
    "# Simulazione diffusione Compton multipla per fotoni emessi da una sorgente di Cesio"
   ]
  },
  {
   "cell_type": "markdown",
   "metadata": {},
   "source": [
    "Questo programma simula la diffusione Compton di un fascio di fotoni all'interno di un cristallo del detector."
   ]
  },
  {
   "cell_type": "code",
   "execution_count": 9,
   "metadata": {},
   "outputs": [
    {
     "name": "stdout",
     "output_type": "stream",
     "text": [
      "Using matplotlib backend: MacOSX\n"
     ]
    }
   ],
   "source": [
    "import numpy as np\n",
    "import matplotlib.pyplot as plt\n",
    "%matplotlib"
   ]
  },
  {
   "cell_type": "markdown",
   "metadata": {},
   "source": [
    "Definisco i parametri del problema: la massa dell'elettrone $m_e=511\\,keV$ e l'energia nominale del fotone emesso dal decadimento del Cesio $E_{Cs} = 661.7\\,keV$"
   ]
  },
  {
   "cell_type": "code",
   "execution_count": 2,
   "metadata": {},
   "outputs": [],
   "source": [
    "m_e=551 #keV\n",
    "E_init=E_Cs=661.7 #keV"
   ]
  },
  {
   "cell_type": "markdown",
   "metadata": {},
   "source": [
    "Simuliamo il passaggio di un grande numero(10000) di fotoni;stiaimo che una frazione $P_{twice}$ dei fotoni incidenti diffonderà due volte e escludiamo, per ora, la possibilità di una tripla diffusione."
   ]
  },
  {
   "cell_type": "code",
   "execution_count": 3,
   "metadata": {},
   "outputs": [],
   "source": [
    "N_photons=100000 #number of incident photons\n",
    "prob=0.01 #ratio of photons that scatter twice in the crystal"
   ]
  },
  {
   "cell_type": "markdown",
   "metadata": {},
   "source": [
    "La formula per la sezione d'urto differenziale angolare dell'effetto Compton è nota come formula di Klein-Nishima. Se $E$ ed $E'$ sono rispettivamente l'energia del fotone incidente e diffuso, e $\\theta$ è l'angolo di diffusione, vale\n",
    "\n",
    "$$\n",
    "\\frac{E'}{E} = \\frac{1}{1+\\frac{E}{m_e}(1-\\cos{\\theta})}\n",
    "$$\n",
    " \n",
    "e\n",
    "\n",
    "$$\n",
    "\\frac{d\\sigma}{d\\cos{\\theta}} = \\mathcal{A} \\bigg(\\frac{E'}{E}\\bigg)^{2} \\bigg(\\frac{E}{E'} + \\frac{E'}{E} - \\sin^{2}{\\theta}\\bigg)\n",
    "$$\n",
    "\n",
    "Dove $\\mathcal{A}$ è un irrilevante fattore moltiplicativo che si elide normalizzando questa distribuzione.\n",
    "\n",
    "Imponendo $\\frac{d\\sigma}{d\\cos{\\theta}} d\\cos{\\theta} = \\frac{d\\sigma}{dE'} dE'$ otteniamo la sezione d'urto differenziale in energia, che implementiamo in una funzione nella prossima cella.\n",
    "\n",
    "La cinematica imposta un intervallo possibile di energie del fotone diffuso che dipende dall'energia del fotone incidente $E$: $I_{E} = [\\frac{m_e}{m_e + 2 E} E, E]$. Per semplificare il codice delle prossime celle, implementiamo una funzione che resistuisca un arange di numpy in questo intervallo."
   ]
  },
  {
   "cell_type": "code",
   "execution_count": 12,
   "metadata": {},
   "outputs": [
    {
     "name": "stdout",
     "output_type": "stream",
     "text": [
      "0.1092772661904409\n",
      "389.984740402762\n"
     ]
    }
   ],
   "source": [
    "#range of definition of d(sigma)/d(E_out) in function of E_in (defaults to E_Cs)\n",
    "def sample(E=E_init, step=0.5):\n",
    "    return np.arange(0.1+(m_e*E/(m_e+2*E)), E, step)\n",
    "\n",
    "#d(sigma)/d(E_out) with e_in (defaults to E_Cs) as a parameter, computed from the Klein-Nishima formula\n",
    "def crossSection(E_out, E_in=E_init):\n",
    "    x=np.arccos(m_e/E_in - m_e/E_out + 1)\n",
    "    return (E_out/E_in)*(E_in/E_out + E_out/E_in - np.sin(x)*np.sin(x))\n",
    "\n",
    "#integrated cross-section as a function of energy\n",
    "def totalCrossSection(E):\n",
    "    x=E/m_e\n",
    "    return 0.75*(((1+x)/(x**3))*((2*x*(1+x)/(1+2*x)) - np.log(1+2*x)))+(1/(2*x))*np.log(1+2*x) -((1+3*x)/((1+2*x)**2))\n",
    "        \n",
    "nSamples=10000\n",
    "E_max=1000000\n",
    "x=np.arange(1,E_Cs, 0.01)\n",
    "normalization=totalCrossSection(x).sum()*0.01   \n",
    "\n",
    "#def ComptonScattering(E=E_init, interaction_length=1):\n",
    " #   energies="
   ]
  },
  {
   "cell_type": "markdown",
   "metadata": {},
   "source": [
    "Nella prossima cella simuliamo la diffusione.\n",
    "\n",
    "Per farlo, discretizziamo l'asse delle energie del fotone diffuso (o meglio, l'intervallo di definizione di cui sopra), e estraiamo casualmente da una distribuzione di probabilità discreta, calcolata come \n",
    "$$\n",
    "\\frac{d\\,\\sigma}{d\\,E'}(E'_k)\n",
    "$$\n",
    "\n",
    "($\\text{w/}\\,\\,E'_k \\in I_{E}$) le energie dei fotoni diffusi.\n",
    "Per il singolo compton, lo facciamo $N_{\\gamma}*(1-P_{twice})$ volte, e immagazziniamo le differenze $E_{init} - E'$ in un array (```once```, nella cella successiva).\n",
    "Dopodiché simuliamo la diffusione di tutti quei fotoni che diffondono due volte, iterando il procedimento di cui sopra ma su un numero $N_{\\gamma}*P_{twice}$ di fotoni incidenti, e immagazziniamo le perdite di energia in un secondo array (```twice```, nella cella successiva).\n",
    "In un terzo array (```total```) uniamo i due array precedenti. Questo array contiene i risultati della \"vera\" simulazione, ovvero conterrà le energie di fotoni che avranno diffuso una o due volte in un rapporto controllato $P_{twice}$."
   ]
  },
  {
   "cell_type": "markdown",
   "metadata": {},
   "source": [
    "## Istogrammi dello spettro"
   ]
  },
  {
   "cell_type": "code",
   "execution_count": 5,
   "metadata": {},
   "outputs": [],
   "source": [
    "once=E_init - np.array([np.random.choice(sample(),p=crossSection(sample())/crossSection(sample()).sum()) for i in range (0,N_photons)])\n",
    "twice=E_init - np.array([np.random.choice(sample(E),p=crossSection(sample(E),E)/crossSection(sample(E),E).sum()) for E in [np.random.choice(sample(),p=crossSection(sample())/crossSection(sample()).sum()) for i in range (0,int(round(N_photons*prob)))]])\n",
    "total=np.append(once, twice)"
   ]
  },
  {
   "cell_type": "markdown",
   "metadata": {},
   "source": [
    "Di seguito utilizziamo il modulo pyplot in matplotlib per rappresentare degli istogrammi delle energie dei fotoni diffusi, per i tre casi distinti: solo singolo Compton, solo doppio Compton, singolo o doppio Compton."
   ]
  },
  {
   "cell_type": "code",
   "execution_count": 6,
   "metadata": {},
   "outputs": [
    {
     "data": {
      "image/png": "[encoded data removed]",
      "text/plain": [
       "<Figure size 432x288 with 1 Axes>"
      ]
     },
     "metadata": {
      "needs_background": "light"
     },
     "output_type": "display_data"
    }
   ],
   "source": [
    "plt.hist(once,80)\n",
    "plt.xlabel(\"Energy lost in a single compton scattering [keV]\")\n",
    "plt.savefig(\"/tmp/single_compton.jpg\")"
   ]
  },
  {
   "cell_type": "code",
   "execution_count": 7,
   "metadata": {},
   "outputs": [
    {
     "data": {
      "image/png": "[encoded data removed]",
      "text/plain": [
       "<Figure size 432x288 with 1 Axes>"
      ]
     },
     "metadata": {
      "needs_background": "light"
     },
     "output_type": "display_data"
    }
   ],
   "source": [
    "plt.hist(twice,12)\n",
    "plt.xlabel(\"Energy lost by photons undergoing Compton scattering twice [keV]\")\n",
    "plt.savefig(\"/tmp/double_compton.jpg\")"
   ]
  },
  {
   "cell_type": "code",
   "execution_count": 8,
   "metadata": {},
   "outputs": [
    {
     "data": {
      "image/png": "[encoded data removed]",
      "text/plain": [
       "<Figure size 432x288 with 1 Axes>"
      ]
     },
     "metadata": {
      "needs_background": "light"
     },
     "output_type": "display_data"
    }
   ],
   "source": [
    "plt.hist(total,60)\n",
    "plt.xlabel(\"Energy lost in multiple compton scattering [keV]\")\n",
    "plt.savefig(\"/tmp/compton.jpg\")"
   ]
  }
 ],
 "metadata": {
  "kernelspec": {
   "display_name": "Python 3",
   "language": "python",
   "name": "python3"
  },
  "language_info": {
   "codemirror_mode": {
    "name": "ipython",
    "version": 3
   },
   "file_extension": ".py",
   "mimetype": "text/x-python",
   "name": "python",
   "nbconvert_exporter": "python",
   "pygments_lexer": "ipython3",
   "version": "3.7.6"
  }
 },
 "nbformat": 4,
 "nbformat_minor": 4
}
