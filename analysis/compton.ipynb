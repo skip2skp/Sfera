{
 "cells": [
  {
   "cell_type": "markdown",
   "metadata": {},
   "source": [
    "# Simulazione diffusione Compton multipla per fotoni emessi da una sorgente di Cesio"
   ]
  },
  {
   "cell_type": "markdown",
   "metadata": {},
   "source": [
    "Questo programma simula la diffusione Compton di un fascio di fotoni all'interno di un cristallo del detector."
   ]
  },
  {
   "cell_type": "code",
   "execution_count": 1,
   "metadata": {},
   "outputs": [],
   "source": [
    "import numpy as np\n",
    "import matplotlib.pyplot as plt\n",
    "from scipy import integrate\n",
    "%matplotlib"
   ]
  },
  {
   "cell_type": "markdown",
   "metadata": {},
   "source": [
    "Definisco i parametri del problema: la massa dell'elettrone $m_e=511\\,keV$ e l'energia nominale del fotone emesso dal decadimento del Cesio $E_{Cs} = 661.7\\,keV$"
   ]
  },
  {
   "cell_type": "code",
   "execution_count": 2,
   "metadata": {},
   "outputs": [],
   "source": [
    "m_e=551 #keV\n",
    "E_init=E_Cs=661.7 #keV"
   ]
  },
  {
   "cell_type": "markdown",
   "metadata": {},
   "source": [
    "Simuliamo il passaggio di un grande numero (10000) di fotoni"
   ]
  },
  {
   "cell_type": "code",
   "execution_count": 3,
   "metadata": {},
   "outputs": [],
   "source": [
    "N_photon=10000000 #number of incident photons"
   ]
  },
  {
   "cell_type": "markdown",
   "metadata": {},
   "source": [
    "La formula per la sezione d'urto differenziale angolare dell'effetto Compton è nota come formula di Klein-Nishima. Se $E$ ed $E'$ sono rispettivamente l'energia del fotone incidente e diffuso, e $\\theta$ è l'angolo di diffusione, vale\n",
    "\n",
    "$$\n",
    "\\frac{E'}{E} = \\frac{1}{1+\\frac{E}{m_e}(1-\\cos{\\theta})}\n",
    "$$\n",
    " \n",
    "e\n",
    "\n",
    "$$\n",
    "\\frac{d\\sigma}{d\\cos{\\theta}} = \\mathcal{A} \\bigg(\\frac{E'}{E}\\bigg)^{2} \\bigg(\\frac{E}{E'} + \\frac{E'}{E} - \\sin^{2}{\\theta}\\bigg)\n",
    "$$\n",
    "\n",
    "Dove $\\mathcal{A}$ è un irrilevante fattore moltiplicativo che si elide normalizzando questa distribuzione.\n",
    "\n",
    "Imponendo $\\frac{d\\sigma}{d\\cos{\\theta}} d\\cos{\\theta} = \\frac{d\\sigma}{dE'} dE'$ otteniamo la sezione d'urto differenziale in energia, che implementiamo in una funzione nella prossima cella.\n",
    "\n",
    "La cinematica imposta un intervallo possibile di energie del fotone diffuso che dipende dall'energia del fotone incidente $E$: $I_{E} = [\\frac{m_e}{m_e + 2 E} E, E]$. Per semplificare il codice delle prossime celle, implementiamo una funzione che resistuisca un ```arange``` di numpy in questo intervallo.\n",
    "\n",
    "Integrando questa espressione su tutti i valori delle energie finali, si trova la sezione d'urto totale in funzione dell'energia incidente. Normalizzando opportunamente questa funzione, otteniamo una distribuzione di probabilità per l'interazione del fotone con il cristallo attraverso l'effetto Compton."
   ]
  },
  {
   "cell_type": "code",
   "execution_count": 4,
   "metadata": {},
   "outputs": [],
   "source": [
    "#range of definition of d(sigma)/d(E_out) in function of E_in (defaults to E_Cs)\n",
    "def sample(E=E_init, step=0.5):\n",
    "    return np.arange(0.1+(m_e*E/(m_e+2*E)), E, step)\n",
    "\n",
    "#d(sigma)/d(E_out) with e_in (defaults to E_Cs) as a parameter, computed from the Klein-Nishima formula\n",
    "def differentialCrossSection(E_out, E_in=E_init):\n",
    "    x=np.arccos(m_e/E_in - m_e/E_out + 1)\n",
    "    return (E_out/E_in)*(E_in/E_out + E_out/E_in - np.sin(x)*np.sin(x))\n",
    "\n",
    "#integrated cross-section as a function of energy\n",
    "def totalCrossSection(E):\n",
    "    x=E/m_e\n",
    "    return 0.75*(((1+x)/(x**3))*((2*x*(1+x)/(1+2*x)) - np.log(1+2*x)))+(1/(2*x))*np.log(1+2*x) -((1+3*x)/((1+2*x)**2))\n",
    "        \n",
    "E_max=10000\n",
    "x=np.arange(100,E_max, 0.005)\n",
    "normalization=integrate.trapz(totalCrossSection(x), x) #normalization of the total cross section"
   ]
  },
  {
   "cell_type": "markdown",
   "metadata": {},
   "source": [
    "Per simulare la diffusione, generiamo numeri aleatori da una distribuzione uniforme tra 0 e 1, e li confrontiamo con la distribuzione di probabilità di cui sopra per decidere se il fotone interagisce per effetto Compton.\n",
    "\n",
    "Per generare l'energia del fotone uscente, discretizziamo l'asse delle energie del fotone diffuso (o meglio, l'intervallo di definizione di cui sopra), e estraiamo casualmente da una distribuzione di probabilità discreta, calcolata come \n",
    "$$\n",
    "\\frac{d\\,\\sigma}{d\\,E'}(E'_k)\n",
    "$$\n",
    "il valore dell'energia del fotone uscente."
   ]
  },
  {
   "cell_type": "code",
   "execution_count": 5,
   "metadata": {},
   "outputs": [],
   "source": [
    "def scattering(E=E_init):\n",
    "    while np.random.uniform()<((totalCrossSection(E))/(normalization)): #if it interacts...\n",
    "        E=np.random.choice(sample(E),p=differentialCrossSection(sample(E),E)/differentialCrossSection(sample(E),E).sum()) #it comes out with a random energy\n",
    "    \n",
    "    return E #return the energy at end of process"
   ]
  },
  {
   "cell_type": "markdown",
   "metadata": {},
   "source": [
    "Per ciascun fotone, iteriamo il processo di decisione aleatoria dell'interazione, e salviamo le energie finali di ciascun fotone nell'array ```energies```"
   ]
  },
  {
   "cell_type": "code",
   "execution_count": 6,
   "metadata": {},
   "outputs": [],
   "source": [
    "energies=np.array([scattering() for photon in range(0, N_photon)])"
   ]
  },
  {
   "cell_type": "markdown",
   "metadata": {},
   "source": [
    "Di seguito mostriamo l'istogramma dello spettro delle energie rilasciate nel detector, i.e.\n",
    "\n",
    "$$\n",
    "\\Delta E^{i}=E_{Cs} - \\text{energies}^{i}\n",
    "$$"
   ]
  },
  {
   "cell_type": "code",
   "execution_count": 11,
   "metadata": {},
   "outputs": [
    {
     "data": {
      "text/plain": [
       "(array([83., 75., 78., 93., 82., 74., 72., 61., 69., 67., 61., 57., 57.,\n",
       "        69., 48., 50., 54., 45., 47., 41., 47., 44., 43., 43., 43., 28.,\n",
       "        37., 34., 37., 36., 37., 25., 33., 34., 30., 38., 38., 33., 37.,\n",
       "        41., 32., 23., 34., 38., 46., 32., 42.]),\n",
       " array([8.61822450e-02, 1.00223525e+01, 1.99585227e+01, 2.98946929e+01,\n",
       "        3.98308631e+01, 4.97670333e+01, 5.97032035e+01, 6.96393737e+01,\n",
       "        7.95755439e+01, 8.95117142e+01, 9.94478844e+01, 1.09384055e+02,\n",
       "        1.19320225e+02, 1.29256395e+02, 1.39192565e+02, 1.49128735e+02,\n",
       "        1.59064906e+02, 1.69001076e+02, 1.78937246e+02, 1.88873416e+02,\n",
       "        1.98809587e+02, 2.08745757e+02, 2.18681927e+02, 2.28618097e+02,\n",
       "        2.38554267e+02, 2.48490438e+02, 2.58426608e+02, 2.68362778e+02,\n",
       "        2.78298948e+02, 2.88235118e+02, 2.98171289e+02, 3.08107459e+02,\n",
       "        3.18043629e+02, 3.27979799e+02, 3.37915969e+02, 3.47852140e+02,\n",
       "        3.57788310e+02, 3.67724480e+02, 3.77660650e+02, 3.87596821e+02,\n",
       "        3.97532991e+02, 4.07469161e+02, 4.17405331e+02, 4.27341501e+02,\n",
       "        4.37277672e+02, 4.47213842e+02, 4.57150012e+02, 4.67086182e+02]),\n",
       " <a list of 47 Patch objects>)"
      ]
     },
     "execution_count": 11,
     "metadata": {},
     "output_type": "execute_result"
    },
    {
     "data": {
      "image/png": "[encoded data removed]",
      "text/plain": [
       "<Figure size 432x288 with 1 Axes>"
      ]
     },
     "metadata": {
      "needs_background": "light"
     },
     "output_type": "display_data"
    }
   ],
   "source": [
    "plt.hist(E_init-energies[np.where(energies!=E_init)],47)\n",
    "plt.xlabel(\"Energy lost in Compton scattering [keV]\")\n",
    "plt.savefig(\"/tmp/compton.jpg\")"
   ]
  }
 ],
 "metadata": {
  "kernelspec": {
   "display_name": "Python 3",
   "language": "python",
   "name": "python3"
  },
  "language_info": {
   "codemirror_mode": {
    "name": "ipython",
    "version": 3
   },
   "file_extension": ".py",
   "mimetype": "text/x-python",
   "name": "python",
   "nbconvert_exporter": "python",
   "pygments_lexer": "ipython3",
   "version": "3.7.6"
  }
 },
 "nbformat": 4,
 "nbformat_minor": 4
}
